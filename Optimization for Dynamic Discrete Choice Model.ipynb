{
 "cells": [
  {
   "cell_type": "code",
   "execution_count": 1,
   "metadata": {
    "collapsed": true
   },
   "outputs": [],
   "source": [
    "using Distributions\n",
    "using Optim"
   ]
  },
  {
   "cell_type": "code",
   "execution_count": 2,
   "metadata": {},
   "outputs": [
    {
     "data": {
      "text/plain": [
       "flowpayoffs (generic function with 1 method)"
      ]
     },
     "execution_count": 2,
     "metadata": {},
     "output_type": "execute_result"
    }
   ],
   "source": [
    "function flowpayoffs(supportX,beta,delta)\n",
    "    # Returns flowpayoffs from not serving (0) or serving (1)\n",
    "    nSuppX = size(supportX,1);\n",
    "    # u0 is (nSuppX,2), first column if previous A=0, second if previous A=1\n",
    "    u0 = [zeros(nSuppX,1) -delta[1]*ones(nSuppX,1)];\n",
    "    u1 = [ones(nSuppX,1) supportX]*beta*[1 1]-delta[2]*ones(nSuppX,1)*[1 0];\n",
    "    return u0,u1;\n",
    "end"
   ]
  },
  {
   "cell_type": "code",
   "execution_count": 3,
   "metadata": {},
   "outputs": [
    {
     "data": {
      "text/plain": [
       "bellman (generic function with 1 method)"
      ]
     },
     "execution_count": 3,
     "metadata": {},
     "output_type": "execute_result"
    }
   ],
   "source": [
    "function bellman(capU0,capU1,u0,u1,capPi,rho)\n",
    "    r0 = log(exp(capU0[:,1])+exp(capU1[:,1]));\n",
    "    r1 = log(exp(capU0[:,2])+exp(capU1[:,2]));\n",
    "    # Then, it applies (\\ref{eq:bellman}) to compute new values of |capU0| and |capU1|\n",
    "    capU0 = u0+rho*capPi*r0*[1 1];\n",
    "    capU1 = u1+rho*capPi*r1*[1 1];\n",
    "    # Here, the conditional expectation over $X_{t+1}$ in (\\ref{eq:bellman}) is taken by premultiplying the vectors\n",
    "    # |r0| and |r1| by the Markov transition matrix |capPi|. The vectors |r0| and |r1| are postmultiplied by |[1 1]|\n",
    "    # because the surpluses, and therefore the continuation payoffs, are independent of the past choice that indexes\n",
    "    # the columns of |capU0| and |capU1|.\n",
    "    # The logit assumption only affects the operator $\\Psi$, and therefore the function |bellman|, through the\n",
    "    # specification of the surpluses $R_0$ and $R_1$ in (\\ref{eq:surplus}). If you want to change the logit assumption,\n",
    "    # you should change the computation of |r0| and |r1| (and make sure to adapt the computation of choice probabilities\n",
    "    # and inverse choice probabilities elsewhere as well).\n",
    "    return capU0,capU1;\n",
    "end"
   ]
  },
  {
   "cell_type": "code",
   "execution_count": 4,
   "metadata": {},
   "outputs": [
    {
     "data": {
      "text/plain": [
       "fixedPoint (generic function with 1 method)"
      ]
     },
     "execution_count": 4,
     "metadata": {},
     "output_type": "execute_result"
    }
   ],
   "source": [
    "function fixedPoint(u0,u1,capPi,rho,tolFixedPoint)\n",
    "    nSuppX = size(capPi,1);\n",
    "    capU0 = zeros(nSuppX,2);\n",
    "    capU1 = zeros(nSuppX,2);\n",
    "    \n",
    "    inU0 = capU0+2*tolFixedPoint;\n",
    "    inU1 = capU1+2*tolFixedPoint;\n",
    "    \n",
    "    while (maximum(maximum(abs(inU0-capU0)))>tolFixedPoint) || (maximum(maximum(abs(inU1-capU1)))>tolFixedPoint)\n",
    "        inU0 = capU0;\n",
    "        inU1 = capU1;\n",
    "        capU0,capU1 = bellman(inU0,inU1,u0,u1,capPi,rho);\n",
    "    end\n",
    "    return capU0,capU1;\n",
    "end"
   ]
  },
  {
   "cell_type": "code",
   "execution_count": 5,
   "metadata": {},
   "outputs": [
    {
     "data": {
      "text/plain": [
       "randomDiscrete (generic function with 1 method)"
      ]
     },
     "execution_count": 5,
     "metadata": {},
     "output_type": "execute_result"
    }
   ],
   "source": [
    "function randomDiscrete(p)\n",
    "    nSupp = size(p,1);\n",
    "    nVar = size(p,2);\n",
    "    uniformDraws = ones(nSupp-1,1)*rand(1,nVar);\n",
    "    cumulativeP = cumsum(p);\n",
    "    return y = sum([ones(1,nVar);cumulativeP[1:nSupp-1,:].<uniformDraws],1);\n",
    "end"
   ]
  },
  {
   "cell_type": "code",
   "execution_count": 6,
   "metadata": {},
   "outputs": [
    {
     "data": {
      "text/plain": [
       "simulateData (generic function with 1 method)"
      ]
     },
     "execution_count": 6,
     "metadata": {},
     "output_type": "execute_result"
    }
   ],
   "source": [
    "function simulateData(deltaU,capPi,nPeriods,nFirms)\n",
    "    nSuppX = size(capPi,1);\n",
    "    oneMinPi = eye(nSuppX)-capPi';\n",
    "    pInf = [oneMinPi[1:nSuppX-1,:];ones(1,nSuppX)]\\[zeros(nSuppX-1,1);1];\n",
    "    # Then, it uses the auxiliary function |randomDiscrete| (see Appendix \\ref{misc}) and the values stored in |pInf| to\n",
    "    # simulate a $1\\times N$ vector of values of $X_1$ from the stationary distribution $P^\\infty$ and stores their\n",
    "    # indices in |iX|.\n",
    "    iX = randomDiscrete(pInf*ones(1,nFirms));\n",
    "    # Using these $N$ simulated values of $X_1$, and $N$ simulated values of $-\\Delta\\varepsilon_1\\equiv\\varepsilon_1(0)-\\varepsilon_1(1)$\n",
    "    # that are stored in |deltaEpsilon|, it simulates $N$ values of the first choice by using that\n",
    "    # $A_1=1$ if $\\Delta U(X_1,0)>-\\Delta\\varepsilon_1$ and $A_1=0$ otherwise. These are stored in the $1\\times N$ vector |choices|.\n",
    "    deltaEpsilon = rand(Gumbel(),1,nFirms)-rand(Gumbel(),1,nFirms);\n",
    "    choices = deltaU[iX,1]' .> deltaEpsilon;\n",
    "    # Finally, $N$ values of $X_t$ are simulated, using the transition matrix $\\Pi$ and |randomDiscrete|, and their\n",
    "    # indices added as a row to the bottom of the $(t-1)\\times N$ matrix |iX|; and $N$ values of $A_t$ are simulated,\n",
    "    # using that  $A_t=1$ if $\\Delta U(X_t,A_{t-1})>-\\Delta\\varepsilon_t$ and $A_t=0$ otherwise, and stored as a row at\n",
    "    # the bottom of the $(t-1)\\times N$ matrix |choices|; recursively for $t=2,\\ldots,T$.\n",
    "    for t = 2:nPeriods\n",
    "        iX = [iX;randomDiscrete(capPi[iX[end,:],:]')];\n",
    "        deltaEpsilon = rand(Gumbel(),1,nFirms)-rand(Gumbel(),1,nFirms);\n",
    "        choices = [choices;(deltaU[iX[end,:]+nSuppX*choices[end,:]]' .> deltaEpsilon)];\n",
    "    end\n",
    "    return choices,iX;\n",
    "end"
   ]
  },
  {
   "cell_type": "code",
   "execution_count": 7,
   "metadata": {},
   "outputs": [
    {
     "data": {
      "text/plain": [
       "estimatePi (generic function with 1 method)"
      ]
     },
     "execution_count": 7,
     "metadata": {},
     "output_type": "execute_result"
    }
   ],
   "source": [
    "function estimatePi(iX,nSuppX)\n",
    "    nPeriods = size(iX,1);\n",
    "    piHat = zeros(nSuppX,nSuppX);\n",
    "    # Then, for each pair $(i,j)\\in\\{1,\\ldots,K\\}\\times\\{1,\\ldots,K\\}$, it estimates the probability $\\Pi_{ij}=\\Pr(X_{t+1}=x^j|X_t=x^i)$\n",
    "    # by the appropriate sample frequency, the number of transitions from $i$ to $j$ divided by the total number of\n",
    "    # transitions from $i$ in the data |iX|.\n",
    "    for i=1:nSuppX\n",
    "        for j=1:nSuppX\n",
    "            piHat[i,j] = sum(sum((iX[2:nPeriods,:].==j)&(iX[1:nPeriods-1,:].==i)))/sum(sum((iX[1:nPeriods-1,:].==i)));\n",
    "        end\n",
    "    end\n",
    "    # Note that |estimatePi| requires a positive number of transition observations from each state. More generally, the\n",
    "    # frequency estimator that it implements only performs well with samples that are large relative to the state space.\n",
    "    # With relatively small samples, the frequency estimator should be replaced by one that smoothes across support points.\n",
    "    return piHat;\n",
    "end"
   ]
  },
  {
   "cell_type": "code",
   "execution_count": 8,
   "metadata": {},
   "outputs": [
    {
     "data": {
      "text/plain": [
       "negLogLik (generic function with 1 method)"
      ]
     },
     "execution_count": 8,
     "metadata": {},
     "output_type": "execute_result"
    }
   ],
   "source": [
    "function negLogLik(pars::Vector)\n",
    "    beta = pars[1:2];        # beta0hat seems always to be biased towards -1\n",
    "    delta = [0;pars[3]];     # delta0 assumed known, the two deltahats are biased otherwise\n",
    "    rho = 0.95;              # Assumed known, optimization unstable otherwise\n",
    "    capPi = piHat;\n",
    "    nSuppX = size(supportX,1);\n",
    "    # Next, it computes the flow payoffs $u_0$ (|u0|) and $u_1$ (|u1|), the choice-specific net expected discounted values\n",
    "    # $U_0$ (|capU0|) and $U_1$ (|capU1|), their contrast $\\Delta U$ (|deltaU|), and the implied probabilities $1/\\left[1+\\exp(\\Delta U)\\right]$\n",
    "    # of not serving the market (|pExit|) for the inputted parameter values. Note that this implements the NFXP procedure's\n",
    "    # inner loop.\n",
    "    u0,u1 = flowpayoffs(supportX,beta,delta);\n",
    "    \n",
    "    capU0,capU1 = fixedPoint(u0,u1,capPi,rho,tolFixedPoint);\n",
    "    deltaU = capU1-capU0;\n",
    "    pExit = 1./(1+exp(deltaU));\n",
    "    \n",
    "    laggedChoices = [zeros(1,size(choices,2));choices[1:end-1,:]];\n",
    "    p = choices + (1-2*choices).*reshape(pExit[iX+nSuppX*laggedChoices],nPeriods,nFirms);\n",
    "    nll = -sum(log(p));\n",
    "    \n",
    "    println(\"Negative log likelihood = $nll, pars= $pars\");\n",
    "    return nll;\n",
    "end"
   ]
  },
  {
   "cell_type": "code",
   "execution_count": 9,
   "metadata": {},
   "outputs": [
    {
     "data": {
      "text/plain": [
       "negScore! (generic function with 1 method)"
      ]
     },
     "execution_count": 9,
     "metadata": {},
     "output_type": "execute_result"
    }
   ],
   "source": [
    "function negScore!(pars::Vector)\n",
    "    beta = pars[1:2];\n",
    "    delta = [0.0;pars[3]];\n",
    "    rho = 0.95;     # Assumed known\n",
    "    capPi = piHat;\n",
    "    nSuppX = size(supportX,1);\n",
    "    # Next, it computes the flow payoffs $u_0$ (|u0|) and $u_1$ (|u1|), the choice-specific net expected discounted values\n",
    "    # $U_0$ (|capU0|) and $U_1$ (|capU1|), their contrast $\\Delta U$ (|deltaU|), and the implied probabilities $1/\\left[1+\\exp(\\Delta U)\\right]$\n",
    "    # of not serving the market (|pExit|) for the inputted parameter values. Note that this implements the NFXP procedure's\n",
    "    # inner loop.\n",
    "    u0,u1 = flowpayoffs(supportX,beta,delta);\n",
    "    capU0,capU1 = fixedPoint(u0,u1,capPi,rho,tolFixedPoint);\n",
    "    deltaU = capU1-capU0;\n",
    "    pExit = 1./(1+exp(deltaU));\n",
    "    \n",
    "    laggedChoices = [zeros(1,size(choices,2));choices[1:end-1,:]];\n",
    "    p = choices + (1-2*choices).*reshape(pExit[iX+nSuppX*laggedChoices],nPeriods,nFirms);\n",
    "    nll = -sum(log(p));\n",
    "    \n",
    "    # This calculates the Score\n",
    "    d00 = rho*capPi*diagm(pExit[:,1]);\n",
    "    d01 = rho*capPi*diagm(pExit[:,2]);\n",
    "    d10 = rho*capPi-d00;\n",
    "    d11 = rho*capPi-d01;\n",
    "    dPsi_dUbar = [[d00;d00;zeros(2*nSuppX,nSuppX)] [zeros(2*nSuppX,nSuppX);d01;d01] [d10;d10;zeros(2*nSuppX,nSuppX)] [zeros(2*nSuppX,nSuppX);d11;d11]];\n",
    "    \n",
    "    dPsi_dTheta = [[zeros(2*nSuppX,1);ones(2*nSuppX,1)] [zeros(2*nSuppX,1);supportX;supportX] [zeros(2*nSuppX,1);-ones(nSuppX,1);zeros(nSuppX,1)]];\n",
    "    \n",
    "    # Next, it computes $\\partial\\bar U/\\partial\\theta'$ (|dUbar_dTheta|) and $\\partial\\Delta U/\\partial\\theta'$ (|dDeltaU_dTheta|).\n",
    "    dUbar_dTheta   = (eye(4*nSuppX)-dPsi_dUbar)\\dPsi_dTheta;\n",
    "    dDeltaU_dTheta    = dUbar_dTheta[2*nSuppX+1:4*nSuppX,:]-dUbar_dTheta[1:2*nSuppX,:];\n",
    "    \n",
    "    # Finally, it computes the $1\\times 3$ vector $-\\partial\\log\\left[\\prod_{t=1}^T p(a_{tn}|x_{tn},a_{(t-1)n})\\right]/\\partial \\theta'$\n",
    "    # for each $n$, stacks these individual (minus) score contributions in the $N\\times 3$ matrix |negFirmScores|, and\n",
    "    # sums them to compute minus the score vector, |negScore|.\n",
    "    nTheta = size(dUbar_dTheta,2);\n",
    "    tempScores = repmat((1-2*choices).*(1-p),1,nTheta);\n",
    "    negFirmScores = reshape(tempScores,nPeriods,nFirms,nTheta);\n",
    "    for i=1:nTheta\n",
    "        negFirmScores[:,:,i] = negFirmScores[:,:,i].*reshape(dDeltaU_dTheta[iX+nSuppX*laggedChoices+2*(i-1)*nSuppX],nPeriods,nFirms);\n",
    "    end\n",
    "    negFirmScores = squeeze(sum(negFirmScores,1),1);\n",
    "    negScore = sum(negFirmScores,1)';\n",
    "    grad = squeeze(negScore,2);\n",
    "    return grad;\n",
    "end"
   ]
  },
  {
   "cell_type": "code",
   "execution_count": 10,
   "metadata": {},
   "outputs": [
    {
     "data": {
      "text/plain": [
       "info! (generic function with 1 method)"
      ]
     },
     "execution_count": 10,
     "metadata": {},
     "output_type": "execute_result"
    }
   ],
   "source": [
    "function info!(pars::Vector)\n",
    "    beta = pars[1:2];\n",
    "    delta = [0.0;pars[3]];\n",
    "    rho = 0.95;     # Asummed known\n",
    "    capPi = piHat;\n",
    "    nSuppX = size(supportX,1);\n",
    "    # Next, it computes the flow payoffs $u_0$ (|u0|) and $u_1$ (|u1|), the choice-specific net expected discounted values\n",
    "    # $U_0$ (|capU0|) and $U_1$ (|capU1|), their contrast $\\Delta U$ (|deltaU|), and the implied probabilities $1/\\left[1+\\exp(\\Delta U)\\right]$\n",
    "    # of not serving the market (|pExit|) for the inputted parameter values. Note that this implements the NFXP procedure's\n",
    "    # inner loop.\n",
    "    u0,u1 = flowpayoffs(supportX,beta,delta);\n",
    "    capU0,capU1 = fixedPoint(u0,u1,capPi,rho,tolFixedPoint);\n",
    "    deltaU = capU1-capU0;\n",
    "    pExit = 1./(1+exp(deltaU));\n",
    "    \n",
    "    laggedChoices = [zeros(1,size(choices,2));choices[1:end-1,:]];\n",
    "    p = choices + (1-2*choices).*reshape(pExit[iX+nSuppX*laggedChoices],nPeriods,nFirms);\n",
    "    nll = -sum(log(p));\n",
    "    \n",
    "    # This calculates the Score\n",
    "    d00 = rho*capPi*diagm(pExit[:,1]);\n",
    "    d01 = rho*capPi*diagm(pExit[:,2]);\n",
    "    d10 = rho*capPi-d00;\n",
    "    d11 = rho*capPi-d01;\n",
    "    dPsi_dUbar = [[d00;d00;zeros(2*nSuppX,nSuppX)] [zeros(2*nSuppX,nSuppX);d01;d01] [d10;d10;zeros(2*nSuppX,nSuppX)] [zeros(2*nSuppX,nSuppX);d11;d11]];\n",
    "    \n",
    "    dPsi_dTheta = [[zeros(2*nSuppX,1);ones(2*nSuppX,1)] [zeros(2*nSuppX,1);supportX;supportX] [zeros(2*nSuppX,1);-ones(nSuppX,1);zeros(nSuppX,1)]];\n",
    "    \n",
    "    # Next, it computes $\\partial\\bar U/\\partial\\theta'$ (|dUbar_dTheta|) and $\\partial\\Delta U/\\partial\\theta'$ (|dDeltaU_dTheta|).\n",
    "    dUbar_dTheta = (eye(4*nSuppX)-dPsi_dUbar)\\dPsi_dTheta;\n",
    "    dDeltaU_dTheta = dUbar_dTheta[2*nSuppX+1:4*nSuppX,:]-dUbar_dTheta[1:2*nSuppX,:];\n",
    "    \n",
    "    # Finally, it computes the $1\\times 3$ vector $-\\partial\\log\\left[\\prod_{t=1}^T p(a_{tn}|x_{tn},a_{(t-1)n})\\right]/\\partial \\theta'$\n",
    "    # for each $n$, stacks these individual (minus) score contributions in the $N\\times 3$ matrix |negFirmScores|, and\n",
    "    # sums them to compute minus the score vector, |negScore|.\n",
    "    nTheta = size(dUbar_dTheta,2);\n",
    "    tempScores = repmat((1-2*choices).*(1-p),1,nTheta);\n",
    "    negFirmScores = reshape(tempScores,nPeriods,nFirms,nTheta);\n",
    "    for i=1:nTheta\n",
    "        negFirmScores[:,:,i] = negFirmScores[:,:,i].*reshape(dDeltaU_dTheta[iX+nSuppX*laggedChoices+2*(i-1)*nSuppX],nPeriods,nFirms);\n",
    "    end\n",
    "    negFirmScores = squeeze(sum(negFirmScores,1),1);\n",
    "    informationMatrix = zeros(nTheta,nTheta);\n",
    "    for n=1:size(negFirmScores,1)\n",
    "        informationMatrix = informationMatrix + negFirmScores[n,:]'*negFirmScores[n,:];\n",
    "    end\n",
    "    return hess=informationMatrix;\n",
    "end"
   ]
  },
  {
   "cell_type": "raw",
   "metadata": {},
   "source": [
    "First, we set the number of time periods (|nPeriods|) and firms (|nFirms|) that we would like to have in our sample."
   ]
  },
  {
   "cell_type": "code",
   "execution_count": 11,
   "metadata": {
    "collapsed": true
   },
   "outputs": [],
   "source": [
    "nPeriods = 100;\n",
    "nFirms = 1000;"
   ]
  },
  {
   "cell_type": "raw",
   "metadata": {},
   "source": [
    "We also set the tolerance |tolFixedPoint| on the fixed point $U$ of $\\Psi$ that we will use to determine the simulation's entry and exit rules. This same tolerance will also be used when solving the model in the inner loop of the NFXP procedure."
   ]
  },
  {
   "cell_type": "code",
   "execution_count": 12,
   "metadata": {
    "collapsed": true
   },
   "outputs": [],
   "source": [
    "tolFixedPoint = 1e-10;"
   ]
  },
  {
   "cell_type": "code",
   "execution_count": 13,
   "metadata": {
    "collapsed": true
   },
   "outputs": [],
   "source": [
    "nSuppX = 5;\n",
    "supportX = (1:nSuppX);\n",
    "capPi = 1./(1+abs(ones(nSuppX,1)*collect((1:nSuppX))'-collect(1:nSuppX)*ones(1,nSuppX)));\n",
    "capPi = capPi./(sum(capPi,1)'*ones(1,nSuppX));\n",
    "beta = [-0.1*nSuppX;0.2];\n",
    "delta = [0;1];\n",
    "rho = 0.95;"
   ]
  },
  {
   "cell_type": "raw",
   "metadata": {},
   "source": [
    "For these parameter values, we compute the flow payoffs $u_0$ (|u0|) and $u_1$ (|u1|), the choice-specific expected discounted values $U_0$ (|capU0|) and $U_1$ (|capU1|), and their contrast $\\Delta U$ (|deltaU|)."
   ]
  },
  {
   "cell_type": "code",
   "execution_count": 14,
   "metadata": {},
   "outputs": [],
   "source": [
    "u0,u1 = flowpayoffs(supportX,beta,delta);\n",
    "capU0,capU1 = fixedPoint(u0,u1,capPi,rho,tolFixedPoint);\n",
    "deltaU = capU1-capU0;"
   ]
  },
  {
   "cell_type": "raw",
   "metadata": {},
   "source": [
    "#\tWith $\\Delta U$ computed, and $\\Pi$ specified, we proceed to simulate a $T\\times N$ matrix of choices |choices| and a $T\\times N$ matrix of states |iX| (recall from Section \\ref{simulate} that |iX| contains indices that point to elements of ${\\cal X}$ rather than those values themselves)."
   ]
  },
  {
   "cell_type": "code",
   "execution_count": 15,
   "metadata": {
    "collapsed": true
   },
   "outputs": [],
   "source": [
    "choices,iX = simulateData(deltaU,capPi,nPeriods,nFirms);"
   ]
  },
  {
   "cell_type": "raw",
   "metadata": {},
   "source": [
    "Now we have the simulated data for N firms over T periods"
   ]
  },
  {
   "cell_type": "raw",
   "metadata": {},
   "source": [
    "First, estimate the probability transition matrix from observed states"
   ]
  },
  {
   "cell_type": "code",
   "execution_count": 16,
   "metadata": {},
   "outputs": [
    {
     "name": "stdout",
     "output_type": "stream",
     "text": [
      "Negative log likelihood = 70696.9498578224, pars= [0.0,-0.1,0.5]\n",
      "Negative log likelihood = 99385.97604589684, pars= [-1.0,0.9,0.5]\n",
      "Negative log likelihood = 105723.87852760764, pars= [-1.0,-0.1,1.5]\n",
      "Negative log likelihood = 95884.54810607055, pars= [-1.0,-0.1,0.5]\n",
      "Negative log likelihood = 86655.30057261164, pars= [-0.33333333333333326,0.5666666666666668,-0.5]\n",
      "Negative log likelihood = 123354.69282851089, pars= [0.11111111111111116,-0.6555555555555554,-0.16666666666666669]\n",
      "Negative log likelihood = 74084.7009949316, pars= [-0.7222222222222222,0.5111111111111112,0.3333333333333333]\n",
      "Negative log likelihood = 122096.4642837309, pars= [0.2962962962962964,0.751851851851852,-0.2777777777777778]\n",
      "Negative log likelihood = 69339.79383769154, pars= [-0.6759259259259259,0.112962962962963,0.3055555555555555]\n",
      "Negative log likelihood = 102434.71310313372, pars= [-0.5987654320987655,-0.21728395061728395,1.259259259259259]\n",
      "Negative log likelihood = 72645.73772848, pars= [-0.39969135802469136,0.37067901234567907,-0.0601851851851852]\n",
      "Negative log likelihood = 82195.57178980143, pars= [0.005144032921810648,-0.25534979423868315,0.1635802469135802]\n",
      "Negative log likelihood = 67923.88354507048, pars= [-0.540380658436214,0.3194958847736626,0.290895061728395]\n",
      "Negative log likelihood = 83651.00156364488, pars= [-0.4111796982167353,-0.14903978052126202,0.7911522633744856]\n",
      "Negative log likelihood = 67639.08946310813, pars= [-0.4025634430727023,0.2407493141289438,0.1526491769547325]\n",
      "Negative log likelihood = 72104.65902936264, pars= [-1.0792466849565614,0.548805441243713,-0.0006001371742113126]\n",
      "Negative log likelihood = 67195.61925417297, pars= [-0.26981167123914035,0.06220136031092824,0.3748499657064472]\n",
      "Negative log likelihood = 72516.3424254343, pars= [-0.13257792257277856,0.3020014098460601,0.24004058070416096]\n",
      "Negative log likelihood = 66862.64332022387, pars= [-0.5400889250876391,0.16022257468373727,0.2891768118427069]\n",
      "Negative log likelihood = 70162.54563331339, pars= [-0.2679287011634405,-0.010713718691256424,0.25355557460752937]\n",
      "Negative log likelihood = 66700.71205301478, pars= [-0.4722676691180206,0.23694348390743283,0.2815601899481786]\n",
      "Negative log likelihood = 68244.34207254, pars= [-0.45221540055716425,0.06549563180578843,0.477742134710156]\n",
      "Negative log likelihood = 66745.94342729071, pars= [-0.41497643244381777,0.19693589354815494,0.23392241639358838]\n",
      "Negative log likelihood = 67799.99282408858, pars= [-0.6817436798605112,0.3338666077819551,0.16158964641653545]\n",
      "Negative log likelihood = 66588.90802524672, pars= [-0.3727946733944831,0.13011767217868497,0.3215348858839693]\n",
      "Negative log likelihood = 67331.99611415462, pars= [-0.299936924883242,0.21577545840577791,0.2688348496411172]\n",
      "Negative log likelihood = 66538.01768783809, pars= [-0.4800509250365398,0.17411079561424742,0.28409132129230946]\n",
      "Negative log likelihood = 66305.99959510719, pars= [-0.4684324125888778,0.16384540758542188,0.35753518168938325]\n",
      "Negative log likelihood = 66392.45018702488, pars= [-0.4951604026614078,0.14730016460405534,0.4193415643372807]\n",
      "Negative log likelihood = 68237.09968321155, pars= [-0.42640299827693334,0.06407560435722567,0.4017516577275277]\n",
      "Negative log likelihood = 66345.16320529666, pars= [-0.4608015014077488,0.19372651401988106,0.31160805689301585]\n",
      "Negative log likelihood = 66173.43845819603, pars= [-0.5845472126759812,0.2133073106467709,0.3551590757977682]\n",
      "Negative log likelihood = 66112.07569353812, pars= [-0.6904234823167303,0.25490212988081384,0.3719711707546676]\n",
      "Negative log likelihood = 65843.00325534574, pars= [-0.6175393325540516,0.22317507672225279,0.45118920669766666]\n",
      "Negative log likelihood = 65613.42567131395, pars= [-0.6862835363128075,0.24770721727625547,0.5347381494003453]\n",
      "Negative log likelihood = 66413.62257383067, pars= [-0.7298452773634501,0.3169237428472449,0.3928700203614051]\n",
      "Negative log likelihood = 66065.1103238693, pars= [-0.5538316213369183,0.18970605916485273,0.4127236783433118]\n",
      "Negative log likelihood = 65769.06422345458, pars= [-0.8262242585698886,0.2678170901947336,0.5680139421058674]\n",
      "Negative log likelihood = 65631.45603042033, pars= [-0.687136128496346,0.21525144787641404,0.6383460091450155]\n",
      "Negative log likelihood = 65540.92417412487, pars= [-0.9125976609157764,0.29747777773341605,0.748008388757507]\n",
      "Negative log likelihood = 65808.42852665615, pars= [-1.0919806807052055,0.3513636370176977,0.9156507439646046]\n",
      "Negative log likelihood = 65300.85496151939, pars= [-0.697787291913398,0.2391405383959901,0.7127144227627111]\n",
      "Negative log likelihood = 65141.72802869075, pars= [-0.6335688085851526,0.22480226249661833,0.785064663091133]\n",
      "Negative log likelihood = 65322.8443103014, pars= [-0.8011638753794785,0.2980733904611125,0.7401947916876415]\n",
      "Negative log likelihood = 65285.49656497156, pars= [-0.8786033602741308,0.29919506985117583,0.980773746290509]\n",
      "Negative log likelihood = 65032.97054294401, pars= [-0.6296263685767314,0.250569370805855,0.9226804119553486]\n",
      "Negative log likelihood = 65158.34901445414, pars= [-0.48814072240720885,0.2271151673420745,1.0100164235542692]\n",
      "Negative log likelihood = 65064.79101238565, pars= [-0.626701816244531,0.2183044116413203,1.0521510892036856]\n",
      "Negative log likelihood = 65077.05342404913, pars= [-0.3813279686634794,0.1632556267780199,0.8591570298762691]\n",
      "Negative log likelihood = 65032.44216124594, pars= [-0.4582019604046753,0.1966173436535118,1.1042610242657358]\n",
      "Negative log likelihood = 65337.99014408472, pars= [-0.37051853631443665,0.18252488423195853,1.2638592048530373]\n",
      "Negative log likelihood = 65232.99052161325, pars= [-0.7616921281538125,0.28040512395577144,1.1935713204069107]\n",
      "Negative log likelihood = 64979.43925698765, pars= [-0.47641900853606267,0.1925430010724578,0.9427606025089295]\n",
      "Negative log likelihood = 65214.90557477542, pars= [-0.4161297421004484,0.20818206537989614,0.9276502699496569]\n",
      "Negative log likelihood = 64977.69768747102, pars= [-0.5740587977085103,0.21577382507596427,1.0210258843901785]\n",
      "Negative log likelihood = 65092.63799969353, pars= [-0.3761601425227674,0.1527200757287676,1.1226845954878804]\n",
      "Negative log likelihood = 64978.76098059357, pars= [-0.5662598120632404,0.22610704703658316,0.9726814578384815]\n",
      "Negative log likelihood = 65047.559266051234, pars= [-0.6196231184672002,0.2263319051364917,0.8533842722259906]\n",
      "Negative log likelihood = 64979.673623800234, pars= [-0.49855724992030653,0.20404598402425678,1.0415418362557995]\n",
      "Negative log likelihood = 64988.2257750344, pars= [-0.5792678289515689,0.21890326476574673,0.9161034602359268]\n",
      "Negative log likelihood = 64967.74089885333, pars= [-0.5187348946781222,0.20776030420962927,1.0101822422508313]\n",
      "Negative log likelihood = 65007.144459914925, pars= [-0.6296166610971858,0.24055111647565997,1.0598324538107315]\n",
      "Negative log likelihood = 64966.49927332833, pars= [-0.5147184216763434,0.20454502992325835,0.97202856533438]\n",
      "Negative log likelihood = 64984.095727071355, pars= [-0.5054149306454102,0.1926123924359848,1.0294763368117787]\n",
      "Negative log likelihood = 64967.92668767019, pars= [-0.5510485917087828,0.21773338338643355,0.9868801775818058]\n",
      "Negative log likelihood = 64992.64819720914, pars= [-0.48227580766698863,0.20425198660358318,0.9583681057211664]\n",
      "Negative log likelihood = 64966.79716364028, pars= [-0.5511130501981298,0.212893365457869,1.0053614397229254]\n",
      "Negative log likelihood = 64967.53328336774, pars= [-0.5053289859929475,0.1990657496740708,1.004834653956952]\n",
      "Negative log likelihood = 64969.26014128873, pars= [-0.5287054105668251,0.20324245916050288,0.9779675304253403]\n",
      "Negative log likelihood = 64965.4673833231, pars= [-0.5212275236502979,0.20663084294734768,1.0021285642944586]\n",
      "Negative log likelihood = 64966.92463872356, pars= [-0.5527103443568999,0.21698040921157913,0.9815110589442242]\n",
      "Negative log likelihood = 64965.17939014695, pars= [-0.5408650047659118,0.21250174432720204,0.9873419576974061]\n",
      "Negative log likelihood = 64970.73687858433, pars= [-0.5000942498635723,0.202891712674003,0.9689712851612378]\n",
      "Negative log likelihood = 64964.91812527682, pars= [-0.5383583501144904,0.2103929522619025,0.9962639010825034]\n",
      "Negative log likelihood = 64968.25718231239, pars= [-0.5522488306774567,0.21513866310104313,1.0184610500485323]\n",
      "Negative log likelihood = 64965.02541776831, pars= [-0.5241010239266217,0.20719343821770453,0.983636686512918]\n",
      "Negative log likelihood = 64965.905907315035, pars= [-0.5476553955543848,0.213427913590525,0.9760331325674263]\n",
      "Negative log likelihood = 64964.87716280298, pars= [-0.5278344916263196,0.208330110608142,0.9956047063627005]\n",
      "Negative log likelihood = 64965.10444642281, pars= [-0.5193309056790427,0.2047759230646306,0.9963282382746752]\n",
      "Negative log likelihood = 64964.79491230677, pars= [-0.52471443045076,0.20670737838027348,0.9940816681303579]\n",
      "Negative log likelihood = 64965.55997636315, pars= [-0.5365038242010916,0.20976018928250745,1.0069968305374566]\n",
      "Negative log likelihood = 64964.743655249666, pars= [-0.5272017239952391,0.20783512598390524,0.9894767225190526]\n",
      "Negative log likelihood = 64965.55980983658, pars= [-0.5148087472670555,0.20485545771964467,0.989844830258904]\n",
      "Negative log likelihood = 64964.72268167822, pars= [-0.5324709494026316,0.20900857862633804,0.9946591333766035]\n",
      "Negative log likelihood = 64964.70860409863, pars= [-0.528423577606101,0.20737061138553586,0.9898736429879755]\n",
      "Negative log likelihood = 64964.886767068565, pars= [-0.5287181205959918,0.2068908617742328,0.9870081113006131]\n",
      "Negative log likelihood = 64964.697302751316, pars= [-0.5340164035518877,0.20943549895024594,0.9885913311253967]\n",
      "Negative log likelihood = 64964.86776687116, pars= [-0.5386673901024516,0.21079955923523216,0.985846162622916]\n",
      "Negative log likelihood = 64964.812297262106, pars= [-0.5360722297118412,0.20937466665750804,0.9926060158075978]\n",
      "Negative log likelihood = 64964.67757294983, pars= [-0.5294193504243896,0.20822001115230593,0.9902590458411888]\n",
      "Negative log likelihood = 64964.7900966686, pars= [-0.5287686049856206,0.2076755023657204,0.9844902132597706]\n",
      "Negative log likelihood = 64964.67270114983, pars= [-0.5315453632983789,0.20867530956118363,0.9921169033473953]\n",
      "Negative log likelihood = 64964.764232900154, pars= [-0.5348971672436698,0.21018326839028778,0.9907712105546784]\n",
      "Negative log likelihood = 64964.67049294266, pars= [-0.5300419750154932,0.20807377563672386,0.9900980348796513]\n",
      "Negative log likelihood = 64964.72710627755, pars= [-0.52665472227362,0.20721056528322973,0.9930579915867606]\n",
      "Negative log likelihood = 64964.66971332633, pars= [-0.5321759832323207,0.2088792655334919,0.9897079962407376]\n",
      "Negative log likelihood = 64964.68679310335, pars= [-0.5330895306064056,0.20886555600196027,0.9910229104706674]\n",
      "Negative log likelihood = 64964.66653043156, pars= [-0.5303368954698936,0.2083813973647195,0.9904500119985584]\n",
      "Negative log likelihood = 64964.683836079734, pars= [-0.5301578725134262,0.20821431612877322,0.9880537920652364]\n",
      "Negative log likelihood = 64964.66525386505, pars= [-0.5311984906021407,0.20856006120308102,0.9911011255268556]\n",
      "Negative log likelihood = 64964.680348146714, pars= [-0.5324322711874101,0.20914004043080442,0.9907413876311166]\n",
      "Negative log likelihood = 64964.66492078916, pars= [-0.5306395490584724,0.208340341835244,0.9902588730675177]\n",
      "Negative log likelihood = 64964.673750281436, pars= [-0.5292739735213505,0.20797526806853778,0.9914986774878833]\n",
      "Negative log likelihood = 64964.66514719547, pars= [-0.5314504808045781,0.20865326616725338,0.990155666552524]\n",
      "Negative log likelihood = 64964.66739987391, pars= [-0.5318554515069006,0.20865438210566606,0.9905604314327063]\n",
      "Negative log likelihood = 64964.66459179466, pars= [-0.5307165344791454,0.20844964354995615,0.9904776168570955]\n",
      "Negative log likelihood = 64964.66734157872, pars= [-0.5306725522926565,0.20840210649855467,0.9894936454579024]\n",
      "Negative log likelihood = 64964.664211263305, pars= [-0.5310670060247697,0.20852057252694944,0.9906992555096172]\n",
      "Negative log likelihood = 64964.66600689546, pars= [-0.5301649122370136,0.20822043910751303,0.9908014970702963]\n",
      "Negative log likelihood = 64964.66427748084, pars= [-0.5311290886626869,0.2085450594023183,0.990317124181967]\n",
      "Negative log likelihood = 64964.66619017141, pars= [-0.5313022037192622,0.20866984181757195,0.9907371246316021]\n",
      "Negative log likelihood = 64964.66420044331, pars= [-0.5308052127236699,0.20842271683082597,0.9903784359585388]\n",
      "Negative log likelihood = 64964.66446855657, pars= [-0.5312843371282723,0.20854258895677302,0.9904522602429866]\n",
      "Negative log likelihood = 64964.664154246966, pars= [-0.5311423864659905,0.20851935260506882,0.9904585993965138]\n",
      "Negative log likelihood = 64964.664286460946, pars= [-0.530880648146933,0.20843003523957784,0.9907070697278126]\n",
      "Negative log likelihood = 64964.66411065, pars= [-0.5310669785337485,0.20851630336163318,0.9904146105684284]\n",
      "Negative log likelihood = 64964.66455483063, pars= [-0.530942712457503,0.2084516760047359,0.9901351751060368]\n",
      "Negative log likelihood = 64964.66407267051, pars= [-0.531035932632953,0.20850334839639606,0.9905582354087221]\n",
      "Negative log likelihood = 64964.66446500239, pars= [-0.5313583190314582,0.20860328607790607,0.9905758609572373]\n",
      "Negative log likelihood = 64964.66408041011, pars= [-0.530943489300617,0.208467859142596,0.9904277922082134]\n",
      "Negative log likelihood = 64964.66412498141, pars= [-0.5308885471788884,0.20847232132868138,0.9904751593937289]\n",
      "Negative log likelihood = 64964.66407514895, pars= [-0.5309520070006639,0.20848407914777822,0.9904710193944251]\n",
      "Negative log likelihood = 64964.664077465204, pars= [-0.5308873074224074,0.20845388776288037,0.990556754105812]\n",
      "Negative log likelihood = 64964.66412175682, pars= [-0.5309733420700659,0.20849301772877374,0.990629547064426]\n",
      "Negative log likelihood = 64964.66405759954, pars= [-0.5309509524929792,0.20847414878914045,0.9904782309222666]\n",
      "Negative log likelihood = 64964.66410831118, pars= [-0.5310719539953233,0.2085204964593294,0.9904482363777971]\n",
      "Negative log likelihood = 64964.6640579455, pars= [-0.5309334690656364,0.20847053993699263,0.9905296246738082]\n",
      "Negative log likelihood = 64964.66407165404, pars= [-0.5309948957937152,0.2084812789339079,0.9905730412754394]\n",
      "Negative log likelihood = 64964.664086120065, pars= [-0.5308836122686009,0.20844729671029794,0.9904956958389541]\n",
      "Negative log likelihood = 64964.66405733807, pars= [-0.530997852541865,0.20848933547487153,0.9905426005162801]\n",
      "Negative log likelihood = 64964.66407657526, pars= [-0.5309266202732719,0.20847473720009518,0.990460596132797]\n",
      "Negative log likelihood = 64964.66405729887, pars= [-0.5309778269136043,0.20847964350045473,0.9905449299897788]\n",
      "Negative log likelihood = 64964.66405335133, pars= [-0.5309650252535212,0.20847841692536484,0.9905238465255334]\n"
     ]
    }
   ],
   "source": [
    "piHat = estimatePi(iX,nSuppX);\n",
    "\n",
    "output = optimize(negLogLik,[-1.0;-0.1;0.5],method=:nelder_mead,ftol=1e-6,xtol=1e-10);\n",
    "\n",
    "startvalues = output.initial_x;\n",
    "maxLikEstimates = output.minimum;\n",
    "\n",
    "hessian = info!(maxLikEstimates);\n",
    "standardErrors = sqrt(diag(inv(hessian)));"
   ]
  },
  {
   "cell_type": "raw",
   "metadata": {},
   "source": [
    "The resulting parameter estimates and standard errors are displayed (third and fourth columns), together with the parameters' true (first column) and starting values (second column)."
   ]
  },
  {
   "cell_type": "code",
   "execution_count": 17,
   "metadata": {},
   "outputs": [
    {
     "name": "stdout",
     "output_type": "stream",
     "text": [
      "=========================\n",
      "Results of Optimization Algorithm\n",
      " * Algorithm: Nelder-Mead\n",
      " * Starting Point: [-1.0,-0.1,0.5]\n",
      " * Minimum: [-0.5309650252535212,0.20847841692536484, ...]\n",
      " * Value of Function at Minimum: 64964.664053\n",
      " * Iterations: 69\n",
      " * Convergence: true\n",
      "   * |x - x'| < NaN: false\n",
      "   * |f(x) - f(x')| / |f(x)| < 1.0e-06: true\n",
      "   * |g(x)| < NaN: false\n",
      "   * Exceeded Maximum Number of Iterations: false\n",
      " * Objective Function Calls: 132\n",
      " * Gradient Call: 0\n",
      "=========================\n",
      "Negative Score\n",
      "[0.022281605960635886,-0.07438424302769953,0.06648732921969236]\n",
      "=========================\n",
      "Information Matrix\n",
      "[37624.45286662701 113159.37900456687 -93.7184090337311\n",
      " 113159.37900456687 388973.80168778484 359.03631646905944\n",
      " -93.7184090337311 359.03631646905944 5415.13469771249]\n",
      "=========================\n",
      "Summary of Results\n",
      "--------------------------------------------\n",
      " True  Start     estim              ste.\n",
      "[-0.5 -1.0 -0.5309650252535212 0.014590955227388914\n",
      " 0.2 -0.1 0.20847841692536484 0.004537979963937957\n",
      " 1.0 0.5 0.9905238465255334 0.013600149409701686]\n"
     ]
    }
   ],
   "source": [
    "println(\"=========================\");\n",
    "println(output);\n",
    "println(\"=========================\");\n",
    "println(\"Negative Score\");\n",
    "println(negScore!(maxLikEstimates));\n",
    "println(\"=========================\");\n",
    "println(\"Information Matrix\");\n",
    "println(hessian);\n",
    "println(\"=========================\");\n",
    "println(\"Summary of Results\");\n",
    "println(\"--------------------------------------------\");\n",
    "println(\" True  Start     estim              ste.\");\n",
    "println([[beta;delta[2]] startvalues maxLikEstimates standardErrors]);\n"
   ]
  },
  {
   "cell_type": "code",
   "execution_count": null,
   "metadata": {
    "collapsed": true
   },
   "outputs": [],
   "source": []
  }
 ],
 "metadata": {
  "kernelspec": {
   "display_name": "Julia 0.4.5",
   "language": "julia",
   "name": "julia-0.4"
  },
  "language_info": {
   "file_extension": ".jl",
   "mimetype": "application/julia",
   "name": "julia",
   "version": "0.4.5"
  }
 },
 "nbformat": 4,
 "nbformat_minor": 1
}
